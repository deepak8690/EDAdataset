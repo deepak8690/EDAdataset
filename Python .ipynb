{
  "nbformat": 4,
  "nbformat_minor": 0,
  "metadata": {
    "colab": {
      "provenance": [],
      "authorship_tag": "ABX9TyPTn6Akydi9fzeQfGoBKi+2",
      "include_colab_link": true
    },
    "kernelspec": {
      "name": "python3",
      "display_name": "Python 3"
    },
    "language_info": {
      "name": "python"
    }
  },
  "cells": [
    {
      "cell_type": "markdown",
      "metadata": {
        "id": "view-in-github",
        "colab_type": "text"
      },
      "source": [
        "<a href=\"https://colab.research.google.com/github/deepak8690/EDAdataset/blob/main/Python%20.ipynb\" target=\"_parent\"><img src=\"https://colab.research.google.com/assets/colab-badge.svg\" alt=\"Open In Colab\"/></a>"
      ]
    },
    {
      "cell_type": "markdown",
      "source": [
        "Python Assignment"
      ],
      "metadata": {
        "id": "_F52cbc0t26P"
      }
    },
    {
      "cell_type": "code",
      "execution_count": 2,
      "metadata": {
        "colab": {
          "base_uri": "https://localhost:8080/",
          "height": 0
        },
        "id": "grtMhB-pt2K1",
        "outputId": "9cf77b1a-6608-4bf6-856b-260fc18646d4"
      },
      "outputs": [
        {
          "output_type": "stream",
          "name": "stdout",
          "text": [
            "olleh\n"
          ]
        }
      ],
      "source": [
        "# Task No:1 Reverse a String\n",
        "a=\"hello\"\n",
        "print(a[::-1])"
      ]
    },
    {
      "cell_type": "code",
      "source": [
        "#Task No:2 Count Vowels\n",
        "def Check_Vow(string, vowels):\n",
        "    final = [each for each in string if each in vowels]\n",
        "    print(len(final))\n",
        "    print(final)"
      ],
      "metadata": {
        "id": "SHsSeEDXuAky"
      },
      "execution_count": 11,
      "outputs": []
    },
    {
      "cell_type": "code",
      "source": [
        "string=\"python is a good programming language\"\n",
        "vowels=\"aeiou\"\n",
        "Check_Vow(string, vowels);"
      ],
      "metadata": {
        "colab": {
          "base_uri": "https://localhost:8080/",
          "height": 0
        },
        "id": "dhg0rzjxt-Rd",
        "outputId": "8cd09b46-2d60-4831-9788-e6f9379bf60e"
      },
      "execution_count": 13,
      "outputs": [
        {
          "output_type": "stream",
          "name": "stdout",
          "text": [
            "12\n",
            "['o', 'i', 'a', 'o', 'o', 'o', 'a', 'i', 'a', 'u', 'a', 'e']\n"
          ]
        }
      ]
    },
    {
      "cell_type": "code",
      "source": [
        "#Task No:3 Palindrome Check\n",
        "def isPalindrome(s):\n",
        "    return s == s[::-1]\n",
        ""
      ],
      "metadata": {
        "id": "9a2XvvCOz3xM"
      },
      "execution_count": 14,
      "outputs": []
    },
    {
      "cell_type": "code",
      "source": [
        "s = \"malayalam\"\n",
        "ans = isPalindrome(s)\n",
        "\n",
        "if ans:\n",
        "    print(\"True\")\n",
        "else:\n",
        "    print(\"False\")"
      ],
      "metadata": {
        "colab": {
          "base_uri": "https://localhost:8080/",
          "height": 0
        },
        "id": "NiUf5-BT0FY-",
        "outputId": "9a9434ac-fda8-41a5-ad1e-5525ecf6bf9b"
      },
      "execution_count": 19,
      "outputs": [
        {
          "output_type": "stream",
          "name": "stdout",
          "text": [
            "True\n"
          ]
        }
      ]
    },
    {
      "cell_type": "code",
      "source": [
        "s = \"python\"\n",
        "ans = isPalindrome(s)\n",
        "\n",
        "if ans:\n",
        "    print(\"True\")\n",
        "else:\n",
        "    print(\"False\")\n"
      ],
      "metadata": {
        "colab": {
          "base_uri": "https://localhost:8080/",
          "height": 0
        },
        "id": "lMPsm2WA0P2s",
        "outputId": "c66c242c-97b8-47ba-8f00-ac091afd5f89"
      },
      "execution_count": 18,
      "outputs": [
        {
          "output_type": "stream",
          "name": "stdout",
          "text": [
            "False\n"
          ]
        }
      ]
    },
    {
      "cell_type": "code",
      "source": [
        "#Task No:4 Anagrams Check\n",
        "def check(s1, s2):\n",
        "\n",
        "\n",
        "    if(sorted(s1)== sorted(s2)):\n",
        "        print(\"The strings are anagrams.\")\n",
        "    else:\n",
        "        print(\"The strings aren't anagrams.\")\n",
        ""
      ],
      "metadata": {
        "id": "-TvS7Fp72Mfb"
      },
      "execution_count": 24,
      "outputs": []
    },
    {
      "cell_type": "code",
      "source": [
        "s1 =\"listen\"\n",
        "s2 =\"silent\"\n",
        "check(s1, s2)"
      ],
      "metadata": {
        "colab": {
          "base_uri": "https://localhost:8080/",
          "height": 0
        },
        "id": "ITwEU3jh2-wg",
        "outputId": "6b708102-d164-46db-a8b0-cff6334b23e3"
      },
      "execution_count": 25,
      "outputs": [
        {
          "output_type": "stream",
          "name": "stdout",
          "text": [
            "The strings are anagrams.\n"
          ]
        }
      ]
    },
    {
      "cell_type": "code",
      "source": [
        "#Task No:5 Longest Substring Without Repeating Characters\n",
        "class Solution(object):\n",
        "   def lengthOfLongestSubstring(self, s):\n",
        "      i =0\n",
        "      j = 0\n",
        "      d={}\n",
        "      ans = 0\n",
        "      while j < len(s):\n",
        "         if s[j] not in d or i>d[s[j]]:\n",
        "            ans = max(ans,(j-i+1))\n",
        "            d[s[j]] = j\n",
        "         else:\n",
        "            i = d[s[j]]+1\n",
        "            ans = max(ans,(j-i+1))\n",
        "            j-=1\n",
        "         #print(ans)\n",
        "         j+=1\n",
        "      return ans\n",
        "ob1 = Solution()\n",
        "print(ob1.lengthOfLongestSubstring(\"ABCABCBB\"))"
      ],
      "metadata": {
        "colab": {
          "base_uri": "https://localhost:8080/",
          "height": 0
        },
        "id": "34nR15sl5KHV",
        "outputId": "961b9dae-00cb-417b-cd04-d73ef5e7391b"
      },
      "execution_count": 26,
      "outputs": [
        {
          "output_type": "stream",
          "name": "stdout",
          "text": [
            "3\n"
          ]
        }
      ]
    }
  ]
}